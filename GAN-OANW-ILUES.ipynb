{
 "cells": [
  {
   "cell_type": "code",
   "execution_count": 11,
   "id": "2fa1bc6d",
   "metadata": {},
   "outputs": [],
   "source": [
    "import torch\n",
    "import torch.nn as nn\n",
    "import numpy as np\n",
    "import sys\n",
    "import os\n",
    "import pprint\n",
    "#from torchsummary import summary\n",
    "from torchinfo import summary\n",
    "import h5py\n",
    "import matplotlib.pyplot as plt\n",
    "import random\n",
    "from torch.utils.data import Dataset\n",
    "import torch.autograd as autograd\n",
    "from torch import optim\n",
    "import pandas as pd\n",
    "import scipy.io"
   ]
  },
  {
   "cell_type": "code",
   "execution_count": 12,
   "id": "f83882ea",
   "metadata": {},
   "outputs": [],
   "source": [
    "import matlab.engine\n",
    "eng = matlab.engine.start_matlab('MATLAB_R2021b')"
   ]
  },
  {
   "cell_type": "code",
   "execution_count": 13,
   "id": "f555dfe6",
   "metadata": {},
   "outputs": [
    {
     "name": "stdout",
     "output_type": "stream",
     "text": [
      "using cuda: NVIDIA GeForce GTX 1660 Ti\n"
     ]
    },
    {
     "data": {
      "text/plain": [
       "device(type='cuda')"
      ]
     },
     "execution_count": 13,
     "metadata": {},
     "output_type": "execute_result"
    }
   ],
   "source": [
    "if torch.cuda.is_available():\n",
    "    torch.set_default_tensor_type(torch.cuda.FloatTensor)\n",
    "    print(\"using cuda:\", torch.cuda.get_device_name(0))\n",
    "    pass\n",
    "device = torch.device(\"cuda\" if torch.cuda.is_available() else \"cpu\")\n",
    "device"
   ]
  },
  {
   "cell_type": "markdown",
   "id": "a2b7b29f",
   "metadata": {},
   "source": [
    "## Generator"
   ]
  },
  {
   "cell_type": "code",
   "execution_count": 14,
   "id": "89c537c9",
   "metadata": {},
   "outputs": [],
   "source": [
    "class netG(nn.Module):\n",
    "    def __init__(self, nc = 1, nz = 1, ngf = 64, gfs = 5, ngpu = 1):\n",
    "        super(netG, self).__init__()\n",
    "        self.ngpu = ngpu\n",
    "\n",
    "        self.main = nn.Sequential(\n",
    "\n",
    "                nn.ConvTranspose2d(     nz, ngf * 8, gfs, 2, gfs//2, bias=False), \n",
    "                nn.ReLU(True),\n",
    "                nn.InstanceNorm2d(ngf * 8),\n",
    "\n",
    "                nn.ConvTranspose2d(ngf * 8, ngf * 4, gfs, 2, gfs//2, bias=False),\n",
    "                nn.ReLU(True),\n",
    "                nn.InstanceNorm2d(ngf * 4),\n",
    "\n",
    "                nn.ConvTranspose2d(ngf * 4, ngf * 2, gfs, 2, gfs//2, bias=False),\n",
    "                nn.ReLU(True),\n",
    "                nn.InstanceNorm2d(ngf * 2),\n",
    "\n",
    "                nn.ConvTranspose2d(ngf * 2,     ngf, gfs, 2, gfs//2, bias=False),\n",
    "                nn.ReLU(True),\n",
    "                nn.InstanceNorm2d(ngf),\n",
    "               \n",
    "                nn.ConvTranspose2d(    ngf,      nc, 4, 2, 2, bias=False),\n",
    "                nn.ReLU(True),\n",
    "                \n",
    "                ### Start dilations ###\n",
    "                nn.ConvTranspose2d(     nc,ngf, gfs, 1, 6, output_padding=0,bias=False,dilation=3), \n",
    "                nn.ReLU(True),\n",
    "                nn.InstanceNorm2d(ngf),\n",
    "               \n",
    "                nn.ConvTranspose2d(    ngf,  nc, gfs, 1, 10, output_padding=0, bias=False,dilation=5),\n",
    "                \n",
    "                nn.Tanh()\n",
    "                \n",
    "            )\n",
    "\n",
    "    def forward(self, input):\n",
    "        input = input.view(input.size(0), -1, 5, 5) # (*, 100, 1, 1)\n",
    "        if input.is_cuda and self.ngpu > 1:\n",
    "            output = nn.parallel.data_parallel(self.main, input,\n",
    "                                               range(self.ngpu))\n",
    "        else:\n",
    "            output = self.main(input)\n",
    "        return output"
   ]
  },
  {
   "cell_type": "markdown",
   "id": "f57833ca",
   "metadata": {},
   "source": [
    "## import the trained generator"
   ]
  },
  {
   "cell_type": "code",
   "execution_count": 15,
   "id": "ddbf0585",
   "metadata": {},
   "outputs": [],
   "source": [
    "G = netG().cuda()"
   ]
  },
  {
   "cell_type": "code",
   "execution_count": 16,
   "id": "d086e1e6",
   "metadata": {},
   "outputs": [
    {
     "data": {
      "text/plain": [
       "<All keys matched successfully>"
      ]
     },
     "execution_count": 16,
     "metadata": {},
     "output_type": "execute_result"
    }
   ],
   "source": [
    "G.load_state_dict(torch.load('netG_epoch_27.pth'))"
   ]
  },
  {
   "cell_type": "code",
   "execution_count": 17,
   "id": "af6cbb5d",
   "metadata": {},
   "outputs": [
    {
     "data": {
      "text/plain": [
       "<matplotlib.colorbar.Colorbar at 0x19aaaa70848>"
      ]
     },
     "execution_count": 17,
     "metadata": {},
     "output_type": "execute_result"
    },
    {
     "data": {
      "image/png": "[encoded data removed]",
      "text/plain": [
       "<Figure size 432x288 with 2 Axes>"
      ]
     },
     "metadata": {
      "needs_background": "light"
     },
     "output_type": "display_data"
    }
   ],
   "source": [
    "noise = torch.rand(1, 25)*2-1\n",
    "z =noise.cuda()\n",
    "fake = G(z)\n",
    "plt.contourf(fake[0][0].detach().cpu().numpy())\n",
    "plt.colorbar()"
   ]
  },
  {
   "cell_type": "markdown",
   "id": "2c23be06",
   "metadata": {},
   "source": [
    "## Getting the N_{e} groups of z and G(z)"
   ]
  },
  {
   "cell_type": "code",
   "execution_count": 31,
   "id": "46106cf0",
   "metadata": {},
   "outputs": [],
   "source": [
    "Ne = 100\n",
    "z_dim = 25\n",
    "ngx = 128\n",
    "ngy = 128"
   ]
  },
  {
   "cell_type": "code",
   "execution_count": 20,
   "id": "4a9fc4ed",
   "metadata": {},
   "outputs": [
    {
     "name": "stdout",
     "output_type": "stream",
     "text": [
      "Wall time: 521 ms\n"
     ]
    }
   ],
   "source": [
    "%%time\n",
    "z_Ne = np.zeros((z_dim, Ne))\n",
    "cond_Ne = np.zeros(((ngx * ngy),Ne))\n",
    "for i in range(Ne):\n",
    "    z = torch.rand(1,z_dim)*2-1\n",
    "    output = G.forward(z.cuda())\n",
    "    b1=torch.full(output[0][0].shape, 6).cuda()\n",
    "    b2=torch.full(output[0][0].shape, 2).cuda()\n",
    "    aa = torch.where(output[0] > 0, b1, b2)\n",
    "    a = aa.squeeze().cpu().detach().numpy()\n",
    "    a = a.reshape(128*128,)\n",
    "    z_Ne[:,i] = z.cpu().numpy()\n",
    "    cond_Ne[:,i] = a\n",
    "#scipy.io.savemat('z_Ne.mat', {\"z_Ne\":z_Ne}) \n",
    "scipy.io.savemat('cond_100.mat', {\"cond_Ne\":cond_Ne})"
   ]
  },
  {
   "cell_type": "markdown",
   "id": "394f1b6f",
   "metadata": {},
   "source": [
    "## 获取随机生成结果的tensor"
   ]
  },
  {
   "cell_type": "code",
   "execution_count": 32,
   "id": "49acc1a1",
   "metadata": {},
   "outputs": [
    {
     "name": "stdout",
     "output_type": "stream",
     "text": [
      "Wall time: 4.05 s\n"
     ]
    }
   ],
   "source": [
    "%%time\n",
    "z_Ne = np.zeros((z_dim, Ne))\n",
    "list_a=[]\n",
    "list_b=[]\n",
    "for i in range(Ne):\n",
    "    z = torch.rand(1,z_dim)*2-1\n",
    "    output = G.forward(z.cuda())\n",
    "    a = output.squeeze().cpu().detach().numpy()\n",
    "    list1=[]\n",
    "    for i in range(len(a)):\n",
    "        for j in a[i]:\n",
    "            list1.append(j)\n",
    "    a=b=0\n",
    "    for ii in list1:\n",
    "        if ii<0:\n",
    "            a+=1\n",
    "        else:\n",
    "            b+=1\n",
    "    list_a.append(a/16384*100)\n",
    "    list_b.append(b/16384*100)\n"
   ]
  },
  {
   "cell_type": "code",
   "execution_count": 34,
   "id": "c80dc4f2",
   "metadata": {},
   "outputs": [],
   "source": [
    "df = pd.DataFrame(list_b,columns=['channel'])\n",
    "df[\"matrix\"]=list_a\n",
    "df.to_excel(\"generate_faces.xlsx\", index=False)"
   ]
  },
  {
   "cell_type": "markdown",
   "id": "447f1730",
   "metadata": {},
   "source": [
    "## import the surrogate model"
   ]
  },
  {
   "cell_type": "code",
   "execution_count": 8,
   "id": "53a1f3e7",
   "metadata": {},
   "outputs": [],
   "source": [
    "import argparse\n",
    "import torch.nn.functional as F\n",
    "from collections import OrderedDict"
   ]
  },
  {
   "cell_type": "code",
   "execution_count": 9,
   "id": "642bcf00",
   "metadata": {},
   "outputs": [],
   "source": [
    "class _DenseLayer(nn.Sequential):\n",
    "\n",
    "    def __init__(self, in_features, growth_rate, drop_rate=0, bn_size=4, bottleneck=False):\n",
    "        super(_DenseLayer, self).__init__()\n",
    "        \n",
    "        if bottleneck and in_features > bn_size * growth_rate:\n",
    "            self.add_module('norm1', nn.BatchNorm2d(in_features))\n",
    "            self.add_module('relu1', nn.ReLU(inplace=True))\n",
    "            \n",
    "            self.add_module('conv1', nn.Conv2d(in_features, bn_size *\n",
    "                            growth_rate, kernel_size=1, stride=1, bias=False))\n",
    "            \n",
    "            self.add_module('norm2', nn.BatchNorm2d(bn_size * growth_rate))\n",
    "            self.add_module('relu2', nn.ReLU(inplace=True))\n",
    "            \n",
    "            self.add_module('conv2', nn.Conv2d(bn_size * growth_rate, growth_rate,\n",
    "                            kernel_size=3, stride=1, padding=1, bias=False))\n",
    "            \n",
    "        else:\n",
    "            self.add_module('norm1', nn.BatchNorm2d(in_features))\n",
    "            self.add_module('relu1', nn.ReLU(inplace=True))\n",
    "            \n",
    "            self.add_module('conv1', nn.Conv2d(in_features, growth_rate, kernel_size=3, stride=1, padding=1, bias=False))\n",
    "        self.drop_rate = drop_rate\n",
    "\n",
    "    def forward(self, x):\n",
    "        y = super(_DenseLayer, self).forward(x)\n",
    "        if self.drop_rate > 0:\n",
    "            y = F.dropout2d(y, p=self.drop_rate, training=self.training) \n",
    "        z = torch.cat([x, y], 1)\n",
    "        return z\n",
    "class _DenseBlock(nn.Sequential):\n",
    "    def __init__(self, num_layers, in_features, growth_rate, drop_rate, bn_size=4, bottleneck=False):\n",
    "        super(_DenseBlock, self).__init__()\n",
    "        \n",
    "        for i in range(num_layers):\n",
    "            layer = _DenseLayer(in_features + i * growth_rate, growth_rate, drop_rate=drop_rate, bn_size=bn_size, bottleneck=bottleneck)\n",
    "            self.add_module('denselayer%d' % (i + 1), layer)\n",
    "class _Transition(nn.Sequential):\n",
    "    \n",
    "    def __init__(self, in_features, out_features, encoding=True, drop_rate=0., last=False, out_channels=3, outsize_even=True):\n",
    "        super(_Transition, self).__init__()\n",
    "        self.add_module('norm1', nn.BatchNorm2d(in_features))\n",
    "        self.add_module('relu1', nn.ReLU(inplace=True))\n",
    "        \n",
    "        # encoding\n",
    "        if encoding:\n",
    "            # reduce feature maps; half image size (input feature size is even)\n",
    "            # bottleneck impl, save memory, add nonlinearity\n",
    "            self.add_module('conv1', nn.Conv2d(in_features, out_features, kernel_size=1, stride=1, padding=0, bias=False))\n",
    "            \n",
    "            if drop_rate > 0:\n",
    "                self.add_module('dropout1', nn.Dropout2d(p=drop_rate))\n",
    "            self.add_module('norm2', nn.BatchNorm2d(out_features))\n",
    "            self.add_module('relu2', nn.ReLU(inplace=True))\n",
    "            self.add_module('conv2', nn.Conv2d(out_features, out_features,\n",
    "                                              kernel_size=3, stride=2,\n",
    "                                              padding=1, bias=False))\n",
    "\n",
    "            if drop_rate > 0:\n",
    "                self.add_module('dropout2', nn.Dropout2d(p=drop_rate))\n",
    "        else:\n",
    "            # decoder\n",
    "            if last:\n",
    "                ks = 6 if outsize_even else 3\n",
    "                out_convt = nn.ConvTranspose2d(out_features, out_channels,kernel_size=ks, stride=2,padding=1, bias=False)\n",
    "            else:\n",
    "                out_convt = nn.ConvTranspose2d(out_features, out_features,kernel_size=3, stride=2,padding=1, output_padding=0, bias=False)\n",
    "\n",
    "            # bottleneck impl, save memory, add nonlinearity\n",
    "            self.add_module('conv1', nn.Conv2d(in_features, out_features,kernel_size=1, stride=1,padding=0, bias=False))\n",
    "\n",
    "            if drop_rate > 0:\n",
    "                self.add_module('dropout1', nn.Dropout2d(p=drop_rate))\n",
    "\n",
    "            self.add_module('norm2', nn.BatchNorm2d(out_features))\n",
    "            self.add_module('relu2', nn.ReLU(inplace=True))\n",
    "            self.add_module('convT2', out_convt)\n",
    "            if drop_rate > 0:\n",
    "                self.add_module('dropout2', nn.Dropout2d(p=drop_rate))"
   ]
  },
  {
   "cell_type": "code",
   "execution_count": 12,
   "id": "1b89e53b",
   "metadata": {},
   "outputs": [],
   "source": [
    "class DenseED(nn.Module):\n",
    "    def __init__(self, in_channels, out_channels, blocks, growth_rate=16,\n",
    "                 num_init_features=64, bn_size=4, drop_rate=0, outsize_even=True,\n",
    "                 bottleneck=False):\n",
    "\n",
    "        super(DenseED, self).__init__()\n",
    "\n",
    "        if len(blocks) > 1 and len(blocks) % 2 == 0:\n",
    "            ValueError('length of blocks must be an odd number, but got {}'.format(len(blocks)))\n",
    "            \n",
    "        enc_block_layers = blocks[: len(blocks) // 2]\n",
    "        dec_block_layers = blocks[len(blocks) // 2:]\n",
    "        self.features = nn.Sequential()\n",
    "        self.features.add_module('in_conv',nn.Conv2d(in_channels, num_init_features,kernel_size=7, stride=2, padding=3, bias=False))\n",
    "        #self.features.add_module('in_conv',nn.Conv2d(in_channels, num_init_features,kernel_size=6, stride=2, padding=2, bias=False))\n",
    "\n",
    "        num_features = num_init_features\n",
    "        for i, num_layers in enumerate(enc_block_layers):\n",
    "            block = _DenseBlock(num_layers=num_layers,\n",
    "                                in_features=num_features,\n",
    "                                bn_size=bn_size, growth_rate=growth_rate,\n",
    "                                drop_rate=drop_rate, bottleneck=bottleneck)\n",
    "            self.features.add_module('encblock%d' % (i + 1), block)\n",
    "            num_features = num_features + num_layers * growth_rate\n",
    "\n",
    "            trans = _Transition(in_features=num_features,\n",
    "                                out_features=num_features // 2,\n",
    "                                encoding=True, drop_rate=drop_rate)\n",
    "            self.features.add_module('down%d' % (i + 1), trans)\n",
    "            num_features = num_features // 2\n",
    "\n",
    "        for i, num_layers in enumerate(dec_block_layers):\n",
    "            block = _DenseBlock(num_layers=num_layers,\n",
    "                                in_features=num_features,\n",
    "                                bn_size=bn_size, growth_rate=growth_rate,\n",
    "                                drop_rate=drop_rate, bottleneck=bottleneck)\n",
    "            self.features.add_module('decblock%d' % (i + 1), block)\n",
    "            num_features += num_layers * growth_rate\n",
    "\n",
    "            last_layer = True if i == len(dec_block_layers) - 1 else False\n",
    "\n",
    "            trans = _Transition(in_features=num_features,\n",
    "                                out_features=num_features // 2,\n",
    "                                encoding=False, drop_rate=drop_rate,\n",
    "                                last=last_layer, out_channels=out_channels,\n",
    "                                outsize_even=outsize_even)\n",
    "            self.features.add_module('up%d' % (i + 1), trans)\n",
    "            num_features = num_features // 2\n",
    "\n",
    "    def forward(self, x):\n",
    "        y = self.features(x)\n",
    "        y[:, 0] = F.softplus(y[:, 0].clone(), beta=1)\n",
    "\n",
    "        return y\n",
    "\n",
    "    def _num_parameters_convlayers(self):\n",
    "        n_params, n_conv_layers = 0, 0\n",
    "        for name, param in self.named_parameters():\n",
    "            if 'conv' in name:\n",
    "                n_conv_layers += 1\n",
    "            n_params += param.numel()\n",
    "        return n_params, n_conv_layers\n",
    "\n",
    "    def _count_parameters(self):\n",
    "        n_params = 0\n",
    "        for name, param in self.named_parameters():\n",
    "            print(name)\n",
    "            print(param.size())\n",
    "            print(param.numel())\n",
    "            n_params += param.numel()\n",
    "            print('num of parameters so far: {}'.format(n_params))\n",
    "\n",
    "    def reset_parameters(self, verbose=False):\n",
    "        for module in self.modules():\n",
    "            # pass self, otherwise infinite loop\n",
    "            if isinstance(module, self.__class__):\n",
    "                continue\n",
    "            if 'reset_parameters' in dir(module):\n",
    "                if callable(module.reset_parameters):\n",
    "                    module.reset_parameters()\n",
    "                    if verbose:\n",
    "                        print(\"Reset parameters in {}\".format(module))"
   ]
  },
  {
   "cell_type": "code",
   "execution_count": 13,
   "id": "6f0d93a1",
   "metadata": {},
   "outputs": [],
   "source": [
    "parser = argparse.ArgumentParser(description='Dnense Encoder-Decoder Convolutional Network')\n",
    "parser.add_argument('--exp-name', type=str, default='AR-Net', help='experiment name')\n",
    "parser.add_argument('--blocks', type=list, default=(5, 10, 5),\n",
    "                    help='list of number of layers in each block in decoding net')  \n",
    "parser.add_argument('--growth-rate', type=int, default=40, help='output of each conv')  \n",
    "parser.add_argument('--drop-rate', type=float, default=0, help='dropout rate')\n",
    "parser.add_argument('--bn-size', type=int, default=8, help='bottleneck size: bn_size * growth_rate')\n",
    "parser.add_argument('--bottleneck', action='store_true', default=False, help='enable bottleneck in the dense blocks')\n",
    "parser.add_argument('--init-features', type=int, default=48,\n",
    "                    help='# initial features after the first conv layer') \n",
    "\n",
    "parser.add_argument('--data-dir', type=str, default=\"./\", help='data directory')\n",
    "\n",
    "\n",
    "parser.add_argument('--n-train', type=int, default=2000, help=\"number of training data\")\n",
    "parser.add_argument('--n-test', type=int, default=500, help=\"number of test data\")\n",
    "\n",
    "parser.add_argument('--w-c', type=float, default=8.0, help='weight value in the weighted loss')\n",
    "parser.add_argument('--w-c2', type=float, default=4.0, help='weight value in the weighted loss')\n",
    "parser.add_argument('--n-epochs', type=int, default=200, help='number of epochs to train (default: 200)')\n",
    "parser.add_argument('--lr', type=float, default=0.0002, help='learnign rate')\n",
    "\n",
    "parser.add_argument('--weight-decay', type=float, default=5e-5, help=\"weight decay\")\n",
    "parser.add_argument('--batch-size', type=int, default=16, help='input batch size for training (default: 100)')\n",
    "parser.add_argument('--test-batch-size', type=int, default=32, help='input batch size for testing (default: 100)')\n",
    "parser.add_argument('--log-interval', type=int, default=1,\n",
    "                    help='how many epochs to wait before logging training status')\n",
    "parser.add_argument('--plot-interval', type=int, default=2,\n",
    "                    help='how many epochs to wait before plotting training status')\n",
    "args = parser.parse_args(args=[])"
   ]
  },
  {
   "cell_type": "code",
   "execution_count": 14,
   "id": "79559b1a",
   "metadata": {},
   "outputs": [],
   "source": [
    "model = DenseED(3, 2, blocks=args.blocks, growth_rate=args.growth_rate,\n",
    "                        drop_rate=args.drop_rate, bn_size=args.bn_size,\n",
    "                        num_init_features=args.init_features, bottleneck=args.bottleneck).to(device)"
   ]
  },
  {
   "cell_type": "code",
   "execution_count": 15,
   "id": "d3a41232",
   "metadata": {},
   "outputs": [
    {
     "name": "stdout",
     "output_type": "stream",
     "text": [
      "Loaded model\n"
     ]
    }
   ],
   "source": [
    "model_dir = \"./\"\n",
    "model.load_state_dict(torch.load(model_dir + '/model_epoch{}.pth'.format(198)))\n",
    "print('Loaded model')"
   ]
  },
  {
   "cell_type": "code",
   "execution_count": 16,
   "id": "ee2374b2",
   "metadata": {},
   "outputs": [],
   "source": [
    "def get_simv(y_pred):\n",
    "    scipy.io.savemat('y_pred.mat', dict(y_pred=y_pred))\n",
    "    eng.interp_matlab(nargout=0)\n",
    "    y_sim = np.loadtxt(\"y_sim.dat\")\n",
    "    return y_sim"
   ]
  },
  {
   "cell_type": "code",
   "execution_count": 27,
   "id": "e1aa7f67",
   "metadata": {},
   "outputs": [],
   "source": [
    "def run_surrogate(X, Nt, model):\n",
    "\n",
    "    model.eval()\n",
    "    \n",
    "    # cond\n",
    "    z_a = X[0:25]\n",
    "    z = torch.tensor(z_a)\n",
    "    z = z.unsqueeze(0)\n",
    "    z = z.float()\n",
    "    output = G.forward(z.cuda())\n",
    "    b1=torch.full(output[0][0].shape, 6).cuda()\n",
    "    b2=torch.full(output[0][0].shape, 2).cuda()\n",
    "    aa = torch.where(output[0] > 0, b1, b2)\n",
    "    cond = aa.squeeze().cpu().detach().numpy()\n",
    "    \n",
    "    \n",
    "    #\n",
    "    ss = X[25:]\n",
    "    Sx_id = 15\n",
    "    source = np.full((Nt,128,128), 0.0)\n",
    "    for j in range(Nt):\n",
    "        for ii in range(22,103):\n",
    "            Sy_id = ii\n",
    "            source[j, Sy_id, Sx_id] = ss[j]\n",
    "\n",
    "    x = np.full((1,3,128,128), 0.0)   \n",
    "    y = np.full( (Nt,2,128,128), 0.0) \n",
    "    y_i_1 = np.full((128,128), 0.0)   \n",
    "    for i in range(Nt):\n",
    "        x[0,0,:,:] = cond           \n",
    "        x[0,1,:,:] = source[i]      \n",
    "        x[0,2,:,:] = y_i_1          \n",
    "        x_tensor = (torch.FloatTensor(x)).to(device)\n",
    "        with torch.no_grad():\n",
    "            y_hat = model(x_tensor)\n",
    "        y_hat = y_hat.data.cpu().numpy()\n",
    "        y[i] = y_hat\n",
    "        y_i_1 = y_hat[0,0,:,:]      \n",
    "    \n",
    "    y_pred = np.full( (Nt + 1,128,128), 0.0)\n",
    "    y_pred[:Nt] = y[:,0]   \n",
    "    y_pred[Nt]  = y[0,1]  \n",
    "\n",
    "    y_pre_obs = get_simv(y_pred)\n",
    "    \n",
    "    return y_pre_obs"
   ]
  },
  {
   "cell_type": "markdown",
   "id": "f96f5da0",
   "metadata": {},
   "source": [
    "## no surrogate model"
   ]
  },
  {
   "cell_type": "code",
   "execution_count": null,
   "id": "fb5e17cd",
   "metadata": {},
   "outputs": [],
   "source": [
    "##GMS\n",
    "x_para = scipy.io.loadmat('x1.mat')\n",
    "xf = x_para['x1']\n",
    "\n",
    "obs_model = scipy.io.loadmat('y1.mat')\n",
    "yf = obs_model['conc_head_Ne']\n",
    "\n",
    "\n",
    "scipy.io.savemat('xf.mat', {\"xf\": xf})\n",
    "scipy.io.savemat('yf.mat', {\"yf\": yf})\n",
    "xall = xf\n",
    "yall = yf\n"
   ]
  },
  {
   "cell_type": "markdown",
   "id": "cd80871a",
   "metadata": {},
   "source": [
    "## using surrogate model"
   ]
  },
  {
   "cell_type": "code",
   "execution_count": null,
   "id": "b9892d0b",
   "metadata": {},
   "outputs": [],
   "source": [
    "x1 = scipy.io.loadmat('x1.mat')\n",
    "x1 = x1['x1']   \n",
    "Nobs = 15*8+15\n",
    "Nt = 8\n",
    "y1 = np.zeros((Nobs,x1.shape[1]))\n",
    "for i in range(x1.shape[1]):  # (x1, y1) are initial samples\n",
    "    y1[:,i] = run_surrogate(x1[:,i], Nt, model)\n",
    "scipy.io.savemat('y1.mat', dict(y1=y1))\n",
    "xf = x1\n",
    "yf = y1\n",
    "scipy.io.savemat('xf.mat', dict(xf=xf))  # Initial ensemble\n",
    "scipy.io.savemat('yf.mat', dict(yf=yf))\n",
    "xall = xf\n",
    "yall = yf"
   ]
  },
  {
   "cell_type": "markdown",
   "id": "da322f7a",
   "metadata": {},
   "source": [
    "## Setting N_{t}"
   ]
  },
  {
   "cell_type": "code",
   "execution_count": null,
   "id": "1ef9d6c6",
   "metadata": {},
   "outputs": [],
   "source": [
    "%%time\n",
    "Nt = 8\n",
    "Nobs = 15*8+15\n",
    "\n",
    "N_iter = 5\n",
    "for i in range(N_iter):\n",
    "    eng.ilues1(nargout=0)\n",
    "    xa = scipy.io.loadmat('xa.mat')\n",
    "    xa = xa['xa']\n",
    "    print('iter=',i+1)\n",
    "    \n",
    "    z_a = xa[0:25,:]\n",
    "    ss_a = xa[25:,:]\n",
    "    scipy.io.savemat('z_a.mat', {\"z_a\": z_a})\n",
    "    scipy.io.savemat('ss_a.mat', {\"ss_a\": ss_a})\n",
    "    \n",
    "    ya = np.zeros((Nobs, xa.shape[1]))\n",
    "    for j in range(xa.shape[1]):\n",
    "        ya[:,j] = run_surrogate(xa[:,j], Nt, model)\n",
    "    scipy.io.savemat('ya.mat', dict(ya=ya))\n",
    "    \n",
    "    \n",
    "    eng.update_samples(nargout=0) \n",
    "    xa = scipy.io.loadmat('xa.mat') \n",
    "    ya = scipy.io.loadmat('ya.mat')\n",
    "    xa = xa['xa']\n",
    "    ya = ya['ya']\n",
    "    \n",
    "    xall = np.concatenate((xall,xa),axis=1)\n",
    "    yall = np.concatenate((yall,ya),axis=1)\n",
    "scipy.io.savemat('results.mat', {\"xall\": xall,\"yall\":yall})  # save results"
   ]
  }
 ],
 "metadata": {
  "kernelspec": {
   "display_name": "Python 3 (ipykernel)",
   "language": "python",
   "name": "python3"
  },
  "language_info": {
   "codemirror_mode": {
    "name": "ipython",
    "version": 3
   },
   "file_extension": ".py",
   "mimetype": "text/x-python",
   "name": "python",
   "nbconvert_exporter": "python",
   "pygments_lexer": "ipython3",
   "version": "3.7.11"
  }
 },
 "nbformat": 4,
 "nbformat_minor": 5
}
